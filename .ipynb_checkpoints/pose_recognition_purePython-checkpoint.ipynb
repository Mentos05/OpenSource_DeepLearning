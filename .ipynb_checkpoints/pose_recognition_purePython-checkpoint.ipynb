{
 "cells": [
  {
   "cell_type": "code",
   "execution_count": 1,
   "metadata": {},
   "outputs": [],
   "source": [
    "import cv2\n",
    "import base64\n",
    "import numpy as np\n",
    "\n",
    "import sys\n",
    "import cv2\n",
    "import os\n",
    "sys.path.append('/opt/openpose/build/install/python')\n",
    "from openpose import pyopenpose as op\n",
    "\n",
    "# Custom Params (refer to include/openpose/flags.hpp for more parameters)\n",
    "params = dict()\n",
    "params[\"model_folder\"] = \"/opt/openpose/models\"\n",
    "params['net_resolution'] = \"288x288\"\n",
    "params['hand'] = False\n",
    "params['face'] = False\n",
    "            \n",
    "# Starting OpenPose\n",
    "global opWrapper \n",
    "opWrapper = op.WrapperPython()\n",
    "opWrapper.configure(params)\n",
    "opWrapper.start()\n",
    "\n",
    "global datum\n",
    "datum = op.Datum()\n",
    "\n",
    "\n",
    "def score_image(image):\n",
    "    \"Output: _image_scored_\"\n",
    "    \n",
    "    #OpenPose Scoring\n",
    "    # Process Image\n",
    "    #datum = op.Datum()\n",
    "    datum.cvInputData = image\n",
    "    opWrapper.emplaceAndPop([datum])\n",
    "    _image_scored_ = datum.cvOutputData\n",
    "    return _image_scored_"
   ]
  },
  {
   "cell_type": "code",
   "execution_count": 2,
   "metadata": {},
   "outputs": [],
   "source": [
    "import time\n",
    "cap = cv2.VideoCapture(0)\n",
    "fourcc = cv2.VideoWriter_fourcc(*'MJPG')\n",
    "cap.set(cv2.CAP_PROP_FOURCC, fourcc)\n",
    "cap.set(3,1280)\n",
    "cap.set(4,720)\n",
    "FPS = 30\n",
    "\n",
    "prev = 0\n",
    "while True:\n",
    "    time_elapsed = time.time() - prev\n",
    "    if time_elapsed > 1./FPS:\n",
    "        prev = time.time()\n",
    "        ret, frame = cap.read()\n",
    "        frame = score_image(frame)\n",
    "        frame = cv2.flip(frame, 1)\n",
    "        cv2.imshow('frame',frame)\n",
    "        if cv2.waitKey(1) & 0xFF == ord('q'):\n",
    "            break\n",
    "cv2.destroyAllWindows()"
   ]
  }
 ],
 "metadata": {
  "kernelspec": {
   "display_name": "Python [conda env:python_sas]",
   "language": "python",
   "name": "conda-env-python_sas-py"
  },
  "language_info": {
   "codemirror_mode": {
    "name": "ipython",
    "version": 3
   },
   "file_extension": ".py",
   "mimetype": "text/x-python",
   "name": "python",
   "nbconvert_exporter": "python",
   "pygments_lexer": "ipython3",
   "version": "3.7.6"
  }
 },
 "nbformat": 4,
 "nbformat_minor": 4
}
